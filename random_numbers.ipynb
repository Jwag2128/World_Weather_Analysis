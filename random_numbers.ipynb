{
 "cells": [
  {
   "cell_type": "code",
   "execution_count": 1,
   "id": "0f53023b",
   "metadata": {},
   "outputs": [],
   "source": [
    "# Import the random module.\n",
    "import random"
   ]
  },
  {
   "cell_type": "code",
   "execution_count": 3,
   "id": "2cb94cf1",
   "metadata": {},
   "outputs": [
    {
     "data": {
      "text/plain": [
       "-25"
      ]
     },
     "execution_count": 3,
     "metadata": {},
     "output_type": "execute_result"
    }
   ],
   "source": [
    "random.randint(-90, 90)"
   ]
  },
  {
   "cell_type": "code",
   "execution_count": 5,
   "id": "43be33b6",
   "metadata": {},
   "outputs": [
    {
     "data": {
      "text/plain": [
       "0.3266979531985733"
      ]
     },
     "execution_count": 5,
     "metadata": {},
     "output_type": "execute_result"
    }
   ],
   "source": [
    "random.random()"
   ]
  },
  {
   "cell_type": "code",
   "execution_count": 7,
   "id": "546a606d",
   "metadata": {},
   "outputs": [
    {
     "data": {
      "text/plain": [
       "[0.7327318350537404,\n",
       " -19.778286935886104,\n",
       " -75.15916348271098,\n",
       " 6.715423432547299,\n",
       " -74.3069721550681,\n",
       " -0.22780858793225223,\n",
       " 17.14366241850748,\n",
       " -51.38589477291007,\n",
       " -60.93070631430102,\n",
       " -25.839803351170723]"
      ]
     },
     "execution_count": 7,
     "metadata": {},
     "output_type": "execute_result"
    }
   ],
   "source": [
    "x = 1\n",
    "latitudes = []\n",
    "while x < 11:\n",
    "    random_lat = random.randint(-90, 89) + random.random()\n",
    "    latitudes.append(random_lat)\n",
    "    x += 1\n",
    "    \n",
    "latitudes"
   ]
  },
  {
   "cell_type": "code",
   "execution_count": 10,
   "id": "93316b26",
   "metadata": {},
   "outputs": [
    {
     "data": {
      "text/plain": [
       "-90"
      ]
     },
     "execution_count": 10,
     "metadata": {},
     "output_type": "execute_result"
    }
   ],
   "source": [
    "random.randrange(-90, 90, step=3)"
   ]
  },
  {
   "cell_type": "code",
   "execution_count": 11,
   "id": "b6d994e4",
   "metadata": {},
   "outputs": [
    {
     "data": {
      "text/plain": [
       "67.73626660321003"
      ]
     },
     "execution_count": 11,
     "metadata": {},
     "output_type": "execute_result"
    }
   ],
   "source": [
    "random.uniform(-90, 90)"
   ]
  },
  {
   "cell_type": "code",
   "execution_count": 12,
   "id": "26ad073b",
   "metadata": {},
   "outputs": [],
   "source": [
    "# Import the NumPy module.\n",
    "import numpy as np"
   ]
  },
  {
   "cell_type": "code",
   "execution_count": 13,
   "id": "4f4bb3fa",
   "metadata": {},
   "outputs": [
    {
     "data": {
      "text/plain": [
       "-4.107428866309917"
      ]
     },
     "execution_count": 13,
     "metadata": {},
     "output_type": "execute_result"
    }
   ],
   "source": [
    "np.random.uniform(-90.000, 90.000)"
   ]
  },
  {
   "cell_type": "code",
   "execution_count": 14,
   "id": "7e0935c0",
   "metadata": {},
   "outputs": [
    {
     "data": {
      "text/plain": [
       "array([-31.81539428,  12.32448108, -77.65285904, -26.18219211,\n",
       "       -75.64429134, -48.84466604,  15.53206109, -61.19573371,\n",
       "        11.20923982,  70.56399401,  -8.13121023, -28.22397053,\n",
       "        87.93263262,  17.66911525, -52.89171256,  62.04988741,\n",
       "        23.54661824, -13.21490475,  81.59503634, -45.64002906,\n",
       "       -66.06602447,   2.65986207, -11.20720846,  58.15183765,\n",
       "       -21.63696683,  18.56425476, -50.86863615, -78.56061088,\n",
       "        49.81225957,  88.27024507, -55.23331348,  85.06747809,\n",
       "         4.07342543,  10.74548184, -60.57052974,  45.43086647,\n",
       "        30.68302869,  84.25639518,  10.11626032,  23.49938565,\n",
       "       -80.57166907,  69.3128605 ,  11.87091707,   8.70712531,\n",
       "         2.09792967,  87.81160809,  89.27882743, -22.02183899,\n",
       "       -77.72269601, -44.3659431 ])"
      ]
     },
     "execution_count": 14,
     "metadata": {},
     "output_type": "execute_result"
    }
   ],
   "source": [
    "np.random.uniform(-90.000, 90.000, size=50)"
   ]
  },
  {
   "cell_type": "code",
   "execution_count": 15,
   "id": "057ccad0",
   "metadata": {},
   "outputs": [],
   "source": [
    "# Import timeit.\n",
    "import timeit"
   ]
  },
  {
   "cell_type": "code",
   "execution_count": 16,
   "id": "f5950fe0",
   "metadata": {},
   "outputs": [
    {
     "name": "stdout",
     "output_type": "stream",
     "text": [
      "12 µs ± 113 ns per loop (mean ± std. dev. of 7 runs, 100000 loops each)\n"
     ]
    }
   ],
   "source": [
    "%timeit np.random.uniform(-90.000, 90.000, size=1500)"
   ]
  },
  {
   "cell_type": "code",
   "execution_count": 17,
   "id": "2a60e808",
   "metadata": {},
   "outputs": [
    {
     "name": "stdout",
     "output_type": "stream",
     "text": [
      "1.39 ms ± 16.5 µs per loop (mean ± std. dev. of 7 runs, 1000 loops each)\n"
     ]
    }
   ],
   "source": [
    "def latitudes(size):\n",
    "    latitudes = []\n",
    "    x = 0\n",
    "    while x < (size):\n",
    "        random_lat = random.randint(-90, 90) + random.random()\n",
    "        latitudes.append(random_lat)\n",
    "        x += 1\n",
    "    return latitudes\n",
    "# Call the function with 1500.\n",
    "%timeit latitudes(1500)"
   ]
  }
 ],
 "metadata": {
  "kernelspec": {
   "display_name": "PythonData",
   "language": "python",
   "name": "pythondata"
  },
  "language_info": {
   "codemirror_mode": {
    "name": "ipython",
    "version": 3
   },
   "file_extension": ".py",
   "mimetype": "text/x-python",
   "name": "python",
   "nbconvert_exporter": "python",
   "pygments_lexer": "ipython3",
   "version": "3.7.13"
  }
 },
 "nbformat": 4,
 "nbformat_minor": 5
}
